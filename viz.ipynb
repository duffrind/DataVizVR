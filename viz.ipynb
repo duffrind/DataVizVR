{
 "cells": [
  {
   "cell_type": "code",
   "execution_count": 1,
   "metadata": {
    "collapsed": true
   },
   "outputs": [],
   "source": [
    "import pandas as pd\n",
    "import numpy as np\n",
    "#from ast import literal_eval"
   ]
  },
  {
   "cell_type": "code",
   "execution_count": null,
   "metadata": {
    "collapsed": true
   },
   "outputs": [],
   "source": []
  },
  {
   "cell_type": "code",
   "execution_count": 2,
   "metadata": {
    "collapsed": false
   },
   "outputs": [],
   "source": [
    "#sanfrancisco = pd.read_csv('Data/sanfrancisco.csv')\n",
    "map_sanfrancisco = pd.read_csv('Data/sanfrancisco_final.csv')\n",
    "#map_sanfrancisco['Location'] = map_sanfrancisco['Location'].apply(literal_eval)"
   ]
  },
  {
   "cell_type": "code",
   "execution_count": 3,
   "metadata": {
    "collapsed": false
   },
   "outputs": [],
   "source": [
    "#x = []\n",
    "#y = []\n",
    "#z = map_raleigh_final['LCR DESC'] == 'Motor Vehicle Theft'\n",
    "#for a in map_raleigh_final['LOCATION'].loc[z]:\n",
    "#    x.append(a[0])\n",
    "#    y.append(a[1])\n",
    "    \n",
    "map_sanfrancisco = map_sanfrancisco[(map_sanfrancisco.X < -120) & (map_sanfrancisco.X > -125) & (map_sanfrancisco.Y < 40) & (map_sanfrancisco.Y > 35)]\n",
    "x = map_sanfrancisco['X'].tolist()\n",
    "y = map_sanfrancisco['Y'].tolist()\n",
    "\n",
    "#sanfran_map = Basemap(lon_0=-122.45, lat_0=37.75,\n",
    "#                      llcrnrlat=37.65, llcrnrlon=-122.6,\n",
    "#                      urcrnrlat=37.85, urcrnrlon=-122.3)\n",
    "#xx,yy = sanfran_map(x,y)\n",
    "\n",
    "#8x6"
   ]
  },
  {
   "cell_type": "code",
   "execution_count": 4,
   "metadata": {
    "collapsed": false
   },
   "outputs": [],
   "source": [
    "lenx = 122.6 - 122.3\n",
    "diffx = lenx / 10\n",
    "\n",
    "leny = 37.85 - 37.65\n",
    "diffy = leny / 8\n",
    "\n",
    "heat = [[0 for d in range(10)] for e in range(8)] \n",
    "\n",
    "for a in range(8): # x values\n",
    "    for b in range(10): # y values\n",
    "        heat[a][b] = 0\n",
    "        for c in range(0,len(x)):\n",
    "            if x[c] > -122.6 + (diffx * b) and x[c] < -122.6 + (diffx * (b+1)) and y[c] > 37.65 + (diffy * a) and y[c] < 37.65 + (diffy * (a+1)):\n",
    "                heat[a][b] += 1"
   ]
  },
  {
   "cell_type": "code",
   "execution_count": 6,
   "metadata": {
    "collapsed": false
   },
   "outputs": [
    {
     "name": "stdout",
     "output_type": "stream",
     "text": [
      "[[0.0, 0.0, 0.0, 0.0, 0.0, 0.0, 0.0, 0.0, 0.0, 0.0], [0.0, 0.0, 0.0, 0.0, 0.0, 0.0, 0.0, 0.0, 0.0, 0.0], [0.0, 0.0, 0.0, 4.352897838899803, 22.62401768172888, 34.25221021611002, 28.597740667976424, 2.4680746561886053, 0.0, 0.0], [0.0, 0.0, 0.0, 13.856827111984284, 17.19670923379175, 47.98010805500982, 54.72126719056975, 17.184430255402752, 0.0, 0.0], [0.0, 0.0, 0.8595284872298625, 21.936394891944992, 26.172642436149314, 83.82858546168958, 79.59233791748527, 4.567779960707269, 0.0, 0.0], [0.0, 0.0, 0.29469548133595286, 11.597495088408644, 21.985510805500983, 74.68074656188605, 100.0, 1.8479862475442044, 0.0, 0.0], [0.0, 0.0, 0.0, 0.0, 0.006139489194499018, 11.886051080550098, 14.053290766208251, 1.706777996070727, 0.0, 0.0], [0.0, 0.0, 0.0, 0.0, 0.0, 0.0, 0.0, 0.0, 0.0, 0.0]]\n"
     ]
    }
   ],
   "source": [
    "maxVal = 0\n",
    "for row in heat:\n",
    "    for value in row:\n",
    "        if value > maxVal:\n",
    "            maxVal = value\n",
    "            \n",
    "#print(maxVal)\n",
    "\n",
    "maxVal = maxVal / 100.0\n",
    "\n",
    "nheat = (np.matrix(heat)/maxVal).tolist()\n",
    "\n",
    "print(nheat)"
   ]
  },
  {
   "cell_type": "code",
   "execution_count": 113,
   "metadata": {
    "collapsed": false
   },
   "outputs": [
    {
     "data": {
      "text/plain": [
       "0"
      ]
     },
     "execution_count": 113,
     "metadata": {},
     "output_type": "execute_result"
    }
   ],
   "source": [
    "file = open('data.txt', 'w')\n",
    "file.truncate()"
   ]
  },
  {
   "cell_type": "code",
   "execution_count": 114,
   "metadata": {
    "collapsed": false
   },
   "outputs": [],
   "source": [
    "for row in nheat:\n",
    "    for item in row:\n",
    "        file.write(str(item) + ',')\n",
    "    file.write('\\n')\n"
   ]
  },
  {
   "cell_type": "code",
   "execution_count": 115,
   "metadata": {
    "collapsed": true
   },
   "outputs": [],
   "source": [
    "file.close()"
   ]
  },
  {
   "cell_type": "code",
   "execution_count": 109,
   "metadata": {
    "collapsed": false
   },
   "outputs": [],
   "source": [
    "#temp = np.matrix(heat)/maxVal"
   ]
  },
  {
   "cell_type": "code",
   "execution_count": 112,
   "metadata": {
    "collapsed": false
   },
   "outputs": [],
   "source": [
    "#temp.tolist()"
   ]
  },
  {
   "cell_type": "code",
   "execution_count": null,
   "metadata": {
    "collapsed": true
   },
   "outputs": [],
   "source": []
  }
 ],
 "metadata": {
  "anaconda-cloud": {},
  "kernelspec": {
   "display_name": "Python 3",
   "language": "python",
   "name": "python3"
  },
  "language_info": {
   "codemirror_mode": {
    "name": "ipython",
    "version": 3
   },
   "file_extension": ".py",
   "mimetype": "text/x-python",
   "name": "python",
   "nbconvert_exporter": "python",
   "pygments_lexer": "ipython3",
   "version": "3.5.2"
  }
 },
 "nbformat": 4,
 "nbformat_minor": 0
}
