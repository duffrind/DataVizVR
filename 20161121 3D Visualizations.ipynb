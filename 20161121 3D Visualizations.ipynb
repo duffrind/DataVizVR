{
 "cells": [
  {
   "cell_type": "code",
   "execution_count": 1,
   "metadata": {
    "collapsed": true
   },
   "outputs": [],
   "source": [
    "import pandas as pd\n",
    "import numpy as np\n",
    "from matplotlib import pyplot as plt\n",
    "%matplotlib inline"
   ]
  },
  {
   "cell_type": "code",
   "execution_count": 60,
   "metadata": {
    "collapsed": false
   },
   "outputs": [],
   "source": [
    "def createViz(fileName, xLow, xHigh, yLow, yHigh):\n",
    "    \"\"\"Inputs: fileName, xLow, xHigh, yLow, yHigh\n",
    "Outputs: Returns nothing but prints a 2D heatmap and a txt file\n",
    "that can be read by the Unity application to print a 3D heatmap.\n",
    "The x coordinates must be in a column named X and y in Y.\"\"\"\n",
    "    vizMap = pd.read_csv('Data/' + fileName)\n",
    "    vizMap = vizMap[(vizMap.X <= xHigh) & (vizMap.X >= xLow) & (vizMap.Y <= yHigh) & (vizMap.Y >= yLow)]\n",
    "    x = vizMap.X.tolist()\n",
    "    y = vizMap.Y.tolist()\n",
    "    lengthX = xHigh - xLow\n",
    "    lengthY = yHigh - yLow\n",
    "    if lengthX > lengthY:\n",
    "        diffX = 10\n",
    "        diffY = round(lengthY / lengthX * 10)\n",
    "    else:\n",
    "        diffY = 10\n",
    "        diffX = round(lengthX / lengthY * 10)\n",
    "    xSize = lengthX / diffX\n",
    "    ySize = lengthY / diffY\n",
    "    heat = [[0 for d in range(diffX)] for e in range(diffY)]\n",
    "    for column in range(diffY):\n",
    "        for row in range(diffX):\n",
    "            heat[column][row] = 0\n",
    "            for cell in range(0,len(x)):\n",
    "                if x[cell] > xLow + (xSize * row) and x[cell] < xLow + (xSize * (row+1)) and \\\n",
    "                y[cell] > yLow + (ySize * column) and y[cell] < yLow + (ySize * (column+1)):\n",
    "                    heat[column][row] += 1\n",
    "    maxVal = 0\n",
    "    for row in heat:\n",
    "        for value in row:\n",
    "            if value > maxVal:\n",
    "                maxVal = value\n",
    "    maxVal = maxVal / 100.0\n",
    "    nheat = (np.matrix(heat)/maxVal).tolist()\n",
    "    file = open('data.txt', 'w')\n",
    "    file.truncate()\n",
    "    for row in nheat:\n",
    "        for item in row:\n",
    "            file.write(str(item) + ',')\n",
    "        file.write('\\n')\n",
    "    file.close()\n",
    "    plt.imshow(nheat, interpolation='nearest')\n",
    "    plt.show()"
   ]
  },
  {
   "cell_type": "code",
   "execution_count": 61,
   "metadata": {
    "collapsed": false
   },
   "outputs": [
    {
     "data": {
      "image/png": "[encoded data removed]",
      "text/plain": [
       "<matplotlib.figure.Figure at 0x11f801198>"
      ]
     },
     "metadata": {},
     "output_type": "display_data"
    }
   ],
   "source": [
    "createViz('sanfrancisco_final.csv', -122.6, -122.3, 37.65, 37.85)"
   ]
  },
  {
   "cell_type": "code",
   "execution_count": null,
   "metadata": {
    "collapsed": true
   },
   "outputs": [],
   "source": []
  }
 ],
 "metadata": {
  "anaconda-cloud": {},
  "kernelspec": {
   "display_name": "Python 3",
   "language": "python",
   "name": "python3"
  },
  "language_info": {
   "codemirror_mode": {
    "name": "ipython",
    "version": 3
   },
   "file_extension": ".py",
   "mimetype": "text/x-python",
   "name": "python",
   "nbconvert_exporter": "python",
   "pygments_lexer": "ipython3",
   "version": "3.5.2"
  }
 },
 "nbformat": 4,
 "nbformat_minor": 0
}
